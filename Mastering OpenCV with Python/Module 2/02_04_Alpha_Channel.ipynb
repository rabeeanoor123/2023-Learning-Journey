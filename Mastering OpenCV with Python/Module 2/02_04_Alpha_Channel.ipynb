{
 "cells": [
  {
   "cell_type": "markdown",
   "metadata": {
    "id": "CzOZ62usuo5i"
   },
   "source": [
    "<h1 style=\"font-size:30px;\">Alpha Channel</h1>\n",
    "\n",
    "The alpha channel determines the transparency of a color. It's the fourth channel of an image that has pixel intensities ranging from **0-255**. **0** represents full transparency, **255** represents full opacity and intermediate values provide translucency. Certain file types support an alpha channel and one common file type is the 'PNG' file type. In this notebook, we will look at the alpha channel from an existing `.png` file and learn how to create the alpha mask for images that do not contain an alpha channel. \n"
   ]
  },
  {
   "cell_type": "code",
   "execution_count": null,
   "metadata": {
    "colab": {
     "base_uri": "https://localhost:8080/"
    },
    "executionInfo": {
     "elapsed": 3258,
     "status": "ok",
     "timestamp": 1674107879219,
     "user": {
      "displayName": "Kukil Kashyap",
      "userId": "02345555180714266540"
     },
     "user_tz": -330
    },
    "id": "wEtSU1ksuo5p",
    "outputId": "21b7ab5f-3419-446e-deee-0ef38e34f5ed"
   },
   "outputs": [],
   "source": [
    "import cv2\n",
    "import numpy as np\n",
    "from matplotlib import pyplot as plt\n",
    "import matplotlib\n",
    "\n",
    "from IPython.display import Image\n",
    "plt.rcParams['image.cmap'] = 'gray'"
   ]
  },
  {
   "cell_type": "markdown",
   "metadata": {
    "id": "kIWfZVzhuo5r"
   },
   "source": [
    "# 1. Inspect the Alpha Channel from a PNG image\n",
    "In this section we will read a PNG file that contains an alpha channel. We will split the channels and inspect them individually.\n",
    "\n",
    "<hr style=\"border:none; height: 4px; background-color:#D3D3D3\" />\n",
    "\n",
    "\n",
    "### <font color=\"green\">OpenCV Documentation</font>\n",
    "\n",
    "[**`split()`**](https://docs.opencv.org/4.5.2/d2/de8/group__core__array.html#ga0547c7fed86152d7e9d0096029c8518a)\n",
    "\n",
    "<hr style=\"border:none; height: 4px; background-color:#D3D3D3\" />"
   ]
  },
  {
   "cell_type": "markdown",
   "metadata": {
    "id": "K0R3Hca-uo5t"
   },
   "source": [
    "# 2. Create a PNG transparent file from a JPG file\n",
    "The standard JPG file format does not support an alpha channel. Let's see how we can transform a JPG image to include an alpha channel and then save it as a PNG file. This is very useful for creating transparent logos or watermarks."
   ]
  },
  {
   "cell_type": "markdown",
   "metadata": {
    "id": "eOG9Xt_ouo5x"
   },
   "source": [
    "## 2.2 Create a Binary Mask\n",
    "The first step in creating an alpha channel is to first create a binary mask for the image. The mask itself becomes the alpha channel. In this case, the white region around the sign is the area we want to be transparent. So we need to create a mask that is black (0) for the region around the sign and white (255) everywhere else.  \n",
    "\n",
    "<hr style=\"border:none; height: 4px; background-color:#D3D3D3\" />\n",
    "\n",
    "### <font color=\"green\">OpenCV Documentation</font>\n",
    "\n",
    "[**`threshold()`**](https://docs.opencv.org/4.5.2/d7/d1b/group__imgproc__misc.html#gae8a4a146d1ca78c626a53577199e9c57)\n",
    "\n",
    "<hr style=\"border:none; height: 4px; background-color:#D3D3D3\" />"
   ]
  },
  {
   "cell_type": "markdown",
   "metadata": {
    "id": "05jZ8pjjuo5z"
   },
   "source": [
    "The fully transparent mask and semi transparent masks above look identical, but this is due to the plotting limitations when using a grayscale color map with matplotlib. The pixel intensity in the black region of the fully transparent mask is equal to zero as expected. However, the pixel intensity of the black region in the semi transparent mask is actually equal to 55, because the thresholded image for this case had a maximum value of 200 and when we created the inverted mask with the `bitwise_not(thresh3)` function, the black region then became 55."
   ]
  },
  {
   "cell_type": "markdown",
   "metadata": {
    "id": "fW1YmReduo5z"
   },
   "source": [
    "## 2.3 Add the Alpha Channel to the Image\n",
    "\n",
    "We will now use the **`merge()`** and **`split()`** functions along with the mask to create the alpha channel.\n",
    "\n",
    "<hr style=\"border:none; height: 4px; background-color:#D3D3D3\" />\n",
    "\n",
    "### <font color=\"green\">OpenCV Documentation</font>\n",
    "[**`split()`**](https://docs.opencv.org/4.5.2/d2/de8/group__core__array.html#ga0547c7fed86152d7e9d0096029c8518a)\n",
    "[**`merge()`**](https://docs.opencv.org/4.5.2/d2/de8/group__core__array.html#ga61f2f2bde4a0a0154b2333ea504fab1d)\n",
    "\n",
    "<hr style=\"border:none; height: 4px; background-color:#D3D3D3\" />"
   ]
  }
 ],
 "metadata": {
  "colab": {
   "provenance": []
  },
  "kernelspec": {
   "display_name": "Python 3 (ipykernel)",
   "language": "python",
   "name": "python3"
  },
  "language_info": {
   "codemirror_mode": {
    "name": "ipython",
    "version": 3
   },
   "file_extension": ".py",
   "mimetype": "text/x-python",
   "name": "python",
   "nbconvert_exporter": "python",
   "pygments_lexer": "ipython3",
   "version": "3.9.16"
  }
 },
 "nbformat": 4,
 "nbformat_minor": 1
}
