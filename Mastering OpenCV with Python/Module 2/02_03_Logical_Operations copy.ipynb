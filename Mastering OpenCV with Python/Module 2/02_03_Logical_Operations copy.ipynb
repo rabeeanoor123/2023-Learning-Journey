{
 "cells": [
  {
   "cell_type": "markdown",
   "metadata": {
    "id": "jILr3VQ7Kdsk"
   },
   "source": [
    "<h1 style=\"font-size:30px;\">Logical Operations</h1>\n",
    "\n",
    "Logical operations are often used with binary masks to process selective portions of an image. In this notebook we will cover:\n",
    "\n",
    "* Introduction to logical operators\n",
    "* Bitwise operations on images: AND, NOT, OR, XOR\n",
    "* Logo manipulation example"
   ]
  },
  {
   "cell_type": "markdown",
   "metadata": {
    "id": "31mxwEH0Kdso"
   },
   "source": [
    "# 1. Introduction to Logical  Operations\n",
    "\n",
    "The following table summarizes the four logical operators that will be covered in this notebook. The output of each operator for input combinations `A` and `B` are also shown. The values for `A` and `B` are either `0` or `1` because these logical operators will be performed on the bits that are used to represent pixel intensities.\n",
    "\n",
    "![Binary-Operators](https://opencv.org/wp-content/uploads/2021/08/c0-m2-binary-operator-table.png)"
   ]
  },
  {
   "cell_type": "markdown",
   "metadata": {
    "id": "fOco1F-TKdsp"
   },
   "source": [
    "### <font style=\"color:rgb(50,120,230)\">Binary Notation</font>\n",
    "The following examples show how the intensity of 255 (white), 42 (dark gray), and 0 (black) are represented as binary numbers:  `11111111`, `00101010`, and `00000000`, respectively. These are 8-bit unsigned integer representations and we will be using this notation when working with logical operators. As you can see, 255 is the largest number that can be represented with an 8-bit unsigned integer."
   ]
  },
  {
   "cell_type": "markdown",
   "metadata": {
    "id": "8R0L4H16Kdsp"
   },
   "source": [
    "![Binary-notations](https://opencv.org/wp-content/uploads/2021/08/c0-m2-binary-notation.png)"
   ]
  },
  {
   "cell_type": "markdown",
   "metadata": {
    "id": "OjAYA0r6Kdsp"
   },
   "source": [
    "### <font style=\"color:rgb(50,120,230)\">Binary Operation Examples</font>\n",
    "Here are four examples of how the logical `AND` and `OR` operators are applied to unsigned 8-bit integers. In these examples, we are exploring the logical operations on pixel intensities of 0, 42, and 255 (i.e., black, dark gray, and white). "
   ]
  },
  {
   "cell_type": "markdown",
   "metadata": {
    "id": "26Qs-k3oKdsp"
   },
   "source": [
    "![And-OR](https://opencv.org/wp-content/uploads/2021/08/c0-m2-binary-and-or-tables-4.png)"
   ]
  },
  {
   "cell_type": "code",
   "execution_count": 2,
   "metadata": {
    "id": "yAIHU5GZKdsq"
   },
   "outputs": [],
   "source": [
    "import cv2\n",
    "import numpy as np\n",
    "import matplotlib.pyplot as plt\n",
    "from PIL import Image \n",
    "\n",
    "plt.rcParams['image.cmap'] = 'gray'\n"
   ]
  },
  {
   "cell_type": "markdown",
   "metadata": {
    "id": "0u0bwHcwKdsq"
   },
   "source": [
    "# 2. Bitwise Operations on Images\n",
    "\n",
    "<hr style=\"border:none; height: 4px; background-color:#D3D3D3\" />\n",
    "\n",
    "### <font color=\"green\">Function Syntax</font>\n",
    "\n",
    "Example API for **`bitwise_and()`**. Others include: **`bitwise_not()`**, **`bitwise_or()`**, **`bitwise_xor()`** \n",
    "\n",
    "``` python\n",
    "dst = cv2.bitwise_and( src1, src2[, dst[, mask]] )\n",
    "```\n",
    "\n",
    "`dst`: Output array that has the same size and type as the input arrays.\n",
    "\n",
    "The function has **2 required arguments**:\n",
    "\n",
    "1. `src1`:\tfirst input array or a scalar.\n",
    "2. `src2`:\tsecond input array or a scalar.\n",
    "\n",
    "An important optional argument is:\n",
    "\n",
    "1. `mask`:\toptional operation mask, 8-bit single channel array, that specifies elements of the output array to be changed.\n",
    "\n",
    "\n",
    "### <font color=\"green\">OpenCV Documentation</font>\n",
    "\n",
    "[**`bitwise_and()`**](https://docs.opencv.org/4.5.2/d2/de8/group__core__array.html#ga60b4d04b251ba5eb1392c34425497e14)\n",
    "[**`bitwise_not()`**](https://docs.opencv.org/4.5.2/d2/de8/group__core__array.html#ga0002cf8b418479f4cb49a75442baee2f)\n",
    "[**`bitwise_or()`**](https://docs.opencv.org/4.5.2/d2/de8/group__core__array.html#gab85523db362a4e26ff0c703793a719b4)\n",
    "[**`bitwise_xor()`**](https://docs.opencv.org/4.5.2/d2/de8/group__core__array.html#ga84b2d8188ce506593dcc3f8cd00e8e2c)\n",
    "\n",
    "<hr style=\"border:none; height: 4px; background-color:#D3D3D3\" />"
   ]
  }
 ],
 "metadata": {
  "colab": {
   "provenance": []
  },
  "kernelspec": {
   "display_name": "Python 3 (ipykernel)",
   "language": "python",
   "name": "python3"
  },
  "language_info": {
   "codemirror_mode": {
    "name": "ipython",
    "version": 3
   },
   "file_extension": ".py",
   "mimetype": "text/x-python",
   "name": "python",
   "nbconvert_exporter": "python",
   "pygments_lexer": "ipython3",
   "version": "3.9.16"
  }
 },
 "nbformat": 4,
 "nbformat_minor": 1
}
