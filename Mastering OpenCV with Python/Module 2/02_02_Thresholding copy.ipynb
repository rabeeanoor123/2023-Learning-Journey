{
 "cells": [
  {
   "cell_type": "markdown",
   "metadata": {},
   "source": [
    "<h1 style=\"font-size:30px;\">Thresholding</h1>\n",
    "\n",
    "One of the most important and fundamental operations in computer visions pipelines is image thresholding. It is often used to create binary images that can then be used for follow-on processing tasks. In this notebook you will learn how to use two types of thresholding techniques. \n",
    "\n",
    "* Global thresholding\n",
    "* Adaptive thresholding\n",
    "\n",
    "![Thresholding](https://opencv.org/wp-content/uploads/2021/08/c0-m2-feature-image-02.png)"
   ]
  },
  {
   "cell_type": "code",
   "execution_count": 1,
   "metadata": {
    "slideshow": {
     "slide_type": "-"
    }
   },
   "outputs": [],
   "source": [
    "import cv2\n",
    "import numpy as np\n",
    "import matplotlib.pyplot as plt \n",
    "%matplotlib inline\n",
    "plt.rcParams['image.cmap'] = 'gray'"
   ]
  },
  {
   "cell_type": "markdown",
   "metadata": {},
   "source": [
    "# 1. Global Thresholding\n",
    "<hr style=\"border:none; height: 4px; background-color:#D3D3D3\" />\n",
    "\n",
    "Binary images are used extensively in computer vision applications, as they allow you to selectively process specific regions of an image, keeping the other regions intact. Image thresholding is used to create binary images from grayscale images. You can use different thresholds to create different binary images from the same original image using the **`threshold()`** function.\n",
    "\n",
    "### <font color=\"green\">Function Syntax </font>\n",
    "\n",
    "``` python\n",
    "retval, dst = cv2.threshold(src, thresh, maxval, type[, dst])\n",
    "```\n",
    "\n",
    "`dst`: The output array of the same size and type and the same number of channels as `src`.\n",
    "\n",
    "The function has **4 required arguments**:\n",
    "\n",
    "1. `src`: input array (multiple-channel, 8-bit or 32-bit floating point).\n",
    "2. `thresh`: threshold value.\n",
    "3. `maxval`: maximum value to use with the THRESH_BINARY and THRESH_BINARY_INV thresholding types.\n",
    "4. `type`: thresholding type (see ThresholdTypes).\n",
    "\n",
    "\n",
    "### <font style=\"color:rgb(8,133,37)\">OpenCV Documentation</font>\n",
    "\n",
    "[**`threshold()`**](https://docs.opencv.org/4.5.2/d7/d1b/group__imgproc__misc.html#gae8a4a146d1ca78c626a53577199e9c57)\n",
    "[**`threshold tutorial`**](https://docs.opencv.org/4.5.2/d7/d4d/tutorial_py_thresholding.html)\n",
    "\n",
    "<hr style=\"border:none; height: 4px; background-color:#D3D3D3\" />"
   ]
  },
  {
   "cell_type": "markdown",
   "metadata": {},
   "source": [
    "# 2. Adaptive Thresholding\n",
    "Suppose you wanted to build an application that could read (decode) sheet music. This is similar to \n",
    "Optical Character Recognition (OCR) for text documents where the goal is to recognize text characters. In either application, one of the first steps in the processing pipeline is to isolate the important information in the image of a document (separating it from the background). This task can be accomplished with thresholding \n",
    "techniques. Let's take a look at an example."
   ]
  },
  {
   "cell_type": "markdown",
   "metadata": {},
   "source": [
    "<hr style=\"border:none; height: 4px; background-color:#D3D3D3\" />\n",
    "\n",
    "### <font color=\"green\">Function Syntax </font>\n",
    "\n",
    "``` python\n",
    "dst = cv2.adaptiveThreshold(src, maxValue, adaptiveMethod, thresholdType, blockSize, C[, dst])\n",
    "```\n",
    "\n",
    "`dst`\tDestination image of the same size and the same type as src.\n",
    "\n",
    "The function has **6 required arguments**:\n",
    "1. `src`:\tSource 8-bit single-channel image.\n",
    "\n",
    "2. `maxValue`:\tNon-zero value assigned to the pixels for which the condition is satisfied\n",
    "3. `adaptiveMethod`:\tAdaptive thresholding algorithm to use, see AdaptiveThresholdTypes. The BORDER_REPLICATE | BORDER_ISOLATED is used to process boundaries.\n",
    "4. `thresholdType:`\tThresholding type that must be either THRESH_BINARY or THRESH_BINARY_INV, see ThresholdTypes.\n",
    "5. `blockSize`:\tSize of a pixel neighborhood that is used to calculate a threshold value for the pixel: 3, 5, 7, and so on.\n",
    "6. `C`:\tConstant subtracted from the mean or weighted mean (see the details below). Normally, it is positive but may be zero or negative as well.\n",
    "\n",
    "### <font style=\"color:rgb(8,133,37)\">OpenCV Documentation</font>\n",
    "\n",
    "[**`adaptiveThreshold()`**](https://docs.opencv.org/4.5.2/d7/d1b/group__imgproc__misc.html#ga72b913f352e4a1b1b397736707afcde3)\n",
    "[**`threshold tutorial`**](https://docs.opencv.org/4.5.2/d7/d4d/tutorial_py_thresholding.html)\n",
    "\n",
    "<hr style=\"border:none; height: 4px; background-color:#D3D3D3\" />"
   ]
  }
 ],
 "metadata": {
  "kernelspec": {
   "display_name": "Python 3",
   "language": "python",
   "name": "python3"
  },
  "language_info": {
   "codemirror_mode": {
    "name": "ipython",
    "version": 3
   },
   "file_extension": ".py",
   "mimetype": "text/x-python",
   "name": "python",
   "nbconvert_exporter": "python",
   "pygments_lexer": "ipython3",
   "version": "3.9.16"
  }
 },
 "nbformat": 4,
 "nbformat_minor": 2
}
