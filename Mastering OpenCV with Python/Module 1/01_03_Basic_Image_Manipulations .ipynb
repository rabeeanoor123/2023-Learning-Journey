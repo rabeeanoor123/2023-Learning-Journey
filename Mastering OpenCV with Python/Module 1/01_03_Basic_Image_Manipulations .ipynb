{
 "cells": [
  {
   "cell_type": "markdown",
   "metadata": {},
   "source": [
    "<h1 style=\"font-size:30px;\">Basic Image Manipulations</h1>\n",
    "\n",
    "In this notebook we will cover pixels operations which include editing individual pixels and cropping images. We will also cover image transformations including resizing and flipping images."
   ]
  },
  {
   "cell_type": "code",
   "execution_count": 1,
   "metadata": {
    "slideshow": {
     "slide_type": "-"
    }
   },
   "outputs": [],
   "source": [
    "import cv2\n",
    "import numpy as np\n",
    "import matplotlib.pyplot as plt\n",
    "import matplotlib\n",
    "\n",
    "from IPython.display import Image\n",
    "plt.rcParams['image.cmap'] = 'gray'\n"
   ]
  },
  {
   "cell_type": "markdown",
   "metadata": {},
   "source": [
    "## 1. Accessing Individual Pixels\n",
    "To access pixels in a numPy array, you have to use matrix notation such as `matrix[r, c]`, where the `r` is the row number and `c` is the column number. Also note that the matrix is 0-indexed. For example, if you want to access pixel in the upper left corner of the image, you need to specify `matrix[0, 0]`. \n"
   ]
  },
  {
   "cell_type": "markdown",
   "metadata": {},
   "source": [
    "# 2. Cropping Images\n",
    "\n",
    "Cropping an image does not require a special function in OpenCV. It is achieved by selecting a specific (pixel) region of the image."
   ]
  },
  {
   "cell_type": "markdown",
   "metadata": {},
   "source": [
    "# 3. Resizing Images\n",
    "\n",
    "<hr style=\"border:none; height: 4px; background-color:#D3D3D3\" />\n",
    "\n",
    "The function **`resize()`** resizes the image `src` down to or up to the specified size. The size and type are derived from the `src`, `dsize`, `fx`, and `fy`.\n",
    "\n",
    "### <font color=\"green\">Function Syntax </font>\n",
    "``` python\n",
    "dst = cv2.resize(src, dsize[, dst[, fx[, fy[, interpolation]]]])\n",
    "```\n",
    "\n",
    "`dst`: output image; it has the size `dsize` (when it is non-zero) or the size computed from `src.size()`, `fx`, and `fy`; the type of `dst` is the same as of `src`.\n",
    "\n",
    "The function has **2 required arguments**:\n",
    "    \n",
    "1. `src`:\tinput image\n",
    "2. `dsize`: output image size\n",
    "\n",
    "Optional arguments that are often used include:\n",
    "\n",
    "1. `fx`: Scale factor along the horizontal axis\n",
    "2. `fy`: Scale factor along the vertical axis\n",
    "\n",
    "The output image has the size `dsize` (when it is non-zero) or the size computed from `src.size()`, `fx`, and `fy`; the type of `dst` is the same as of `src`. If `fx` and `fy` are specified then `dsize` should be set to `None` since is it a required argument.\n",
    "\n",
    "### <font color=\"green\">OpenCV Documentation</font>\n",
    "\n",
    "[**`resize()`**](https://docs.opencv.org/4.5.2/da/d54/group__imgproc__transform.html#ga47a974309e9102f5f08231edc7e7529d)\n",
    "\n",
    "<hr style=\"border:none; height: 4px; background-color:#D3D3D3\" />"
   ]
  },
  {
   "cell_type": "markdown",
   "metadata": {
    "slideshow": {
     "slide_type": "slide"
    }
   },
   "source": [
    "\n",
    "# 4. Flipping Images\n",
    "\n",
    "<hr style=\"border:none; height: 4px; background-color:#D3D3D3\" />\n",
    "\n",
    "The function **`flip()`** flips the array in one of three different ways (row and column indices are 0-based):\n",
    "\n",
    "### <font color=\"green\">Function Syntax </font>\n",
    "``` python\n",
    "dst = cv2.flip(src, flipCode[, dst])\n",
    "\n",
    "```\n",
    "\n",
    "`dst`: output array of the same size and type as src.\n",
    "\n",
    "The function has **2 required arguments**:\n",
    "    \n",
    "1. `src`:\tinput image\n",
    "2. `flipCode`: a flag to specify how to flip the array; 0 means flipping around the x-axis and positive value (for example, 1) means flipping around y-axis. Negative value (for example, -1) means flipping around both axes.\n",
    "\n",
    "\n",
    "### <font color=\"green\">OpenCV Documentation</font>\n",
    "\n",
    "[**`flip()`**](https://docs.opencv.org/4.5.2/d2/de8/group__core__array.html#gaca7be533e3dac7feb70fc60635adf441)\n",
    "\n",
    "<hr style=\"border:none; height: 4px; background-color:#D3D3D3\" />"
   ]
  }
 ],
 "metadata": {
  "interpreter": {
   "hash": "1e654b3bc3aace0335b326231d51e90ebd214a7f2d0629a648660f7deb4b3382"
  },
  "kernelspec": {
   "display_name": "Python 3",
   "language": "python",
   "name": "python3"
  },
  "language_info": {
   "codemirror_mode": {
    "name": "ipython",
    "version": 3
   },
   "file_extension": ".py",
   "mimetype": "text/x-python",
   "name": "python",
   "nbconvert_exporter": "python",
   "pygments_lexer": "ipython3",
   "version": "3.8.12"
  }
 },
 "nbformat": 4,
 "nbformat_minor": 2
}
