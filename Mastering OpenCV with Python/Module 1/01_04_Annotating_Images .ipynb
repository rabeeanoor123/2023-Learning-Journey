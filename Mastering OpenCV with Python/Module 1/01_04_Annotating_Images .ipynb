{
 "cells": [
  {
   "cell_type": "markdown",
   "metadata": {
    "id": "6J0qBo1q-6yf"
   },
   "source": [
    "<h1 style=\"font-size:30px;\">Annotating Images</h1>\n",
    "\n",
    "In this notebook we will demonstrate how to annotate images using OpenCV. We will learn how to perform the following annotations to images.\n",
    "\n",
    "* Draw lines \n",
    "* Draw circles\n",
    "* Draw rectangles\n",
    "* Add text\n",
    "\n",
    "These are useful when you want to annotate your results for presentations or show a demo of your application. Annotations can also be useful during development and debugging. Videos can also be annotated as we will see in future modules."
   ]
  },
  {
   "cell_type": "code",
   "execution_count": 1,
   "metadata": {
    "id": "2Hpc9fJj-6yg",
    "scrolled": false
   },
   "outputs": [],
   "source": [
    "import cv2\n",
    "import numpy as np\n",
    "import matplotlib.pyplot as plt \n",
    "import matplotlib"
   ]
  },
  {
   "cell_type": "markdown",
   "metadata": {
    "id": "HVeAgsaI-6yi"
   },
   "source": [
    "# 1. Read Grayscale Image as \"Color\"\n",
    "\n",
    "Let's start by reading and displaying an image that we wish to annotate. We selected a grayscale image for this example, but notice that we are using **`cv2.IMREAD_COLOR`** to read the image as a color image. Why is that? If we wish to annotate this image with color, then the image must support a color representation, even though the original image is a grayscale image. The image itself could be rendered as a single channel grayscale image or as a color image (with grayscale \"color\" values). In both cases, the displayed image will appear identical (as a pure grayscale image).\n",
    "\n",
    "To better understand this let's consider the pixel intensity of a specific point in the gray sky. Let's assume the intensity value at [10,101] is 160. So if we read this image as a grayscale image (single channel) then the sky would have a pixel intensity of 160. If we read this image as a color image (three channels) then the pixel intensity at the same point would be represented as (160,160,160). The three channels have identical values and thus give rise to the same grayscale color as the single-channel representation. But singe the image data now contains three color channels it allows us to annotate this image with color!"
   ]
  },
  {
   "cell_type": "markdown",
   "metadata": {
    "id": "Mklx4_XD-6yk"
   },
   "source": [
    "# 2. Drawing a Line\n",
    "\n",
    "<hr style=\"border:none; height: 4px; background-color:#D3D3D3\" />\n",
    "\n",
    "The **`line()`** function in OpenCV is used to draw lines on images.\n",
    "\n",
    "### <font color=\"green\">Function Syntax</font>\n",
    "``` python\n",
    "    img = cv2.line(img, pt1, pt2, color[, thickness[, lineType[, shift]]])\n",
    "```\n",
    "\n",
    "**`img`**: The output image that has been annotated.\n",
    "\n",
    "The function has **4 required arguments**:\n",
    "\n",
    "1. `img`:   Image on which we will draw a line\n",
    "2. `pt1`:   First point (x, y) location of the line segment\n",
    "3. `pt2`:   Second point of the line segment\n",
    "4. `color`: Color of the line which will be drawn\n",
    "    \n",
    "Optional arguments that are commonly used include:\n",
    "\n",
    "1. `thickness`: Integer specifying the line thickness. Default value is 1.\n",
    "2. `lineType`:  Type of the line. Default value is **`cv2.LINE_8`** which stands for an 8-connected line. Usually, **`cv2.LINE_AA`** (antialiased or smooth line) is used for the lineType.\n",
    "    \n",
    "### <font color=\"green\">OpenCV Documentation</font>\n",
    "\n",
    "[**`line()`**](https://docs.opencv.org/4.5.2/d6/d6e/group__imgproc__draw.html#ga7078a9fae8c7e7d13d24dac2520ae4a2)\n",
    "[**`linetype`**](https://docs.opencv.org/4.5.2/d6/d6e/group__imgproc__draw.html#gaf076ef45de481ac96e0ab3dc2c29a777)\n",
    "\n",
    "<hr style=\"border:none; height: 4px; background-color:#D3D3D3\" />"
   ]
  },
  {
   "cell_type": "markdown",
   "metadata": {
    "id": "vHD9zOxT-6ym"
   },
   "source": [
    "# 3. Drawing a Circle\n",
    "\n",
    "<hr style=\"border:none; height: 4px; background-color:#D3D3D3\" />\n",
    "\n",
    "The **`circle()`** function in OpenCV is used to draw circles on images.\n",
    "\n",
    "### <font color=\"green\">Function Syntax</font>\n",
    "``` python\n",
    "img = cv2.circle(img, center, radius, color[, thickness[, lineType[, shift]]])\n",
    "```\n",
    "\n",
    "`img`: The output image that has been annotated.\n",
    "\n",
    "The function has **4 required arguments**:\n",
    "\n",
    "1. `img`:    Image on which we will draw a line\n",
    "2. `center`: Center of the circle\n",
    "3. `radius`: Radius of the circle\n",
    "4. `color`:  Color of the circle which will be drawn\n",
    "    \n",
    "Optional arguments that are commonly used include:\n",
    "\n",
    "1. `thickness`: Thickness of the circle outline (if positive). \n",
    "If a negative value is supplied for this argument, it will result in a filled circle.\n",
    "2. `lineType`:  Type of the circle boundary. This is exact same as lineType argument in **`cv2.line()`**\n",
    "    \n",
    "### <font color=\"green\">OpenCV Documentation</font>\n",
    "    \n",
    "[**`circle()`**](https://docs.opencv.org/4.5.2/d6/d6e/group__imgproc__draw.html#gaf10604b069374903dbd0f0488cb43670)\n",
    "\n",
    "<hr style=\"border:none; height: 4px; background-color:#D3D3D3\" />"
   ]
  },
  {
   "cell_type": "markdown",
   "metadata": {
    "id": "pjQCpt0m-6yn"
   },
   "source": [
    "# 3. Drawing a Rectangle\n",
    "\n",
    "<hr style=\"border:none; height: 4px; background-color:#D3D3D3\" />\n",
    "\n",
    "The **`rectangle()`** function in OpenCV is used to draw rectangles on images.\n",
    "\n",
    "### <font color=\"green\">Function Syntax</font>\n",
    "\n",
    "    img = cv2.rectangle(img, pt1, pt2, color[, thickness[, lineType[, shift]]])\n",
    "\n",
    "`img`: The output image that has been annotated.\n",
    "\n",
    "The function has **4 required arguments**:\n",
    "\n",
    "1. `img`: Image on which the rectangle is to be drawn.\n",
    "2. `pt1`: Vertex of the rectangle. Usually we use the **top-left vertex** here.\n",
    "3. `pt2`: Vertex of the rectangle opposite to pt1. Usually we use the **bottom-right**              vertex here.\n",
    "4. `color`: Rectangle color\n",
    "    \n",
    "Optional arguments that are commonly used include:\n",
    "\n",
    "1. `thickness`: Thickness of the circle outline (if positive). \n",
    "    If a negative value is supplied for this argument, it will result in a filled rectangle.\n",
    "2. `lineType`: Type of the circle boundary. This is exact same as lineType argument in \n",
    "    **`cv2.line()`**\n",
    "    \n",
    "### <font color=\"green\">OpenCV Documentation Links</font>\n",
    "\n",
    "[**`rectangle()`**](https://docs.opencv.org/4.5.2/d6/d6e/group__imgproc__draw.html#ga07d2f74cadcf8e305e810ce8eed13bc9)\n",
    "\n",
    "<hr style=\"border:none; height: 4px; background-color:#D3D3D3\" />"
   ]
  },
  {
   "cell_type": "markdown",
   "metadata": {
    "id": "OsA2ozhq-6yn"
   },
   "source": [
    "# 4. Adding Text\n",
    "\n",
    "<hr style=\"border:none; height: 4px; background-color:#D3D3D3\" />\n",
    "\n",
    "The **`putText()`** function in OpenCV is used to add text to images.\n",
    "\n",
    "### <font color=\"green\">Function Syntax</font>\n",
    "\n",
    "    img = cv2.putText(img, text, org, fontFace, fontScale, color[, thickness[, lineType[, bottomLeftOrigin]]])\n",
    "\n",
    "`img`: The output image that has been annotated.\n",
    "\n",
    "The function has **6 required arguments**:\n",
    "\n",
    "1. `img`: Image on which the text has to be written.\n",
    "2. `text`: Text string to be written.\n",
    "3. `org`: Bottom-left corner of the text string in the image.\n",
    "4. `fontFace`: Font type\n",
    "5. `fontScale`: Font scale factor that is multiplied by the font-specific base size.\n",
    "6. `color`: Font color\n",
    " \n",
    "Optional arguments that are commonly used include:\n",
    "\n",
    "1. `thickness`: Integer specifying the line thickness for the text. Default value is 1.\n",
    "2. `lineType`: Type of the line. Default value is 8 which stands for an 8-connected line. Usually, **`cv2.LINE_AA`** (antialiased or smooth line) is used for the lineType.\n",
    "\n",
    "### <font color=\"green\">OpenCV Documentation</font>\n",
    "\n",
    "[**`putText()`**](https://docs.opencv.org/4.5.2/d6/d6e/group__imgproc__draw.html#ga5126f47f883d730f633d74f07456c576)\n",
    "\n",
    "<hr style=\"border:none; height: 4px; background-color:#D3D3D3\" />"
   ]
  }
 ],
 "metadata": {
  "colab": {
   "collapsed_sections": [],
   "name": "01_04_Annotating_Images.ipynb",
   "provenance": []
  },
  "interpreter": {
   "hash": "1e654b3bc3aace0335b326231d51e90ebd214a7f2d0629a648660f7deb4b3382"
  },
  "kernelspec": {
   "display_name": "Python 3 (ipykernel)",
   "language": "python",
   "name": "python3"
  },
  "language_info": {
   "codemirror_mode": {
    "name": "ipython",
    "version": 3
   },
   "file_extension": ".py",
   "mimetype": "text/x-python",
   "name": "python",
   "nbconvert_exporter": "python",
   "pygments_lexer": "ipython3",
   "version": "3.9.7"
  }
 },
 "nbformat": 4,
 "nbformat_minor": 2
}
