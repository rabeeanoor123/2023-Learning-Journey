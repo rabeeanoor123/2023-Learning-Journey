{
 "cells": [
  {
   "cell_type": "markdown",
   "metadata": {},
   "source": [
    "<h1 style=\"font-size:30px;\">Image Histograms </h1>\n",
    "\n",
    "Image histograms are primarily used as an analysis tool in computer vision as they quantify the distribution of data associated with an image (for example, intensity values within an image). In this notebook we will demonstrate how to produce image histograms and how to interpret the plots. We will also cover the topic of histogram equalization which can help improve the contrast in poorly illuminated images. As you will see, the results are often stunning."
   ]
  },
  {
   "cell_type": "code",
   "execution_count": null,
   "metadata": {},
   "outputs": [],
   "source": [
    "import cv2\n",
    "import numpy as np\n",
    "import matplotlib\n",
    "from matplotlib import pyplot as plt\n",
    "plt.rcParams['image.cmap'] = 'gray'"
   ]
  },
  {
   "cell_type": "code",
   "execution_count": null,
   "metadata": {},
   "outputs": [],
   "source": [
    "# Check version of matplotlib, should be greter than or equal to 3.3.0. \n",
    "matplotlib.__version__"
   ]
  },
  {
   "cell_type": "markdown",
   "metadata": {},
   "source": [
    "# 1. Introduction to Histograms\n",
    "\n",
    "Histograms are collected counts of data organized into a set of predefined bins. When we plot histograms, we need to specify the number of bins along the x-axis. A bin represents a bucket range of values, such as pixel intensities 0-9, 10-19, 20-29, and so on. We will see several examples below that will help solidify this concept."
   ]
  },
  {
   "cell_type": "markdown",
   "metadata": {},
   "source": [
    "<hr style=\"border:none; height: 4px; background-color:#D3D3D3\" />\n",
    "\n",
    "### <font color=\"green\">Function Syntax </font>\n",
    "``` python\n",
    "retval = plt.hist(x[, bins[, range[, ...]]])\n",
    "```\n",
    "\n",
    "`retval`: Array or list of arrays, the values of the histogram bins. If input is a sequence of arrays [data1, data2, ...], then this is a list of arrays with the values of the histograms for each of the arrays in the same order. The dtype of the array n (or of its element arrays) will always be float even if no weighting or normalization is used.\n",
    "\n",
    "The function has **1 required input argument** and several optional flags:\n",
    "\n",
    "1. `x`: Array or sequence of (n,) arrays. Input values, this takes either a single array or a sequence of arrays which are not required to be of the same length.\n",
    "2. `bins`: Defines the number of equal-width bins in the range. This is an **optional argument** with a default value of 10.\n",
    "2. `range`: The lower and upper range of the bins, where lower and upper outliers are ignored. This is an **optional argument** with a default value of None, equivalent to using the whole range of the input `x`.\n",
    "\n",
    "\n",
    "### <font color=\"green\">OpenCV Documentation</font>\n",
    "\n",
    "[**`histogram tutorial`**](https://docs.opencv.org/4.5.2/d8/dbc/tutorial_histogram_calculation.html)\n",
    "\n",
    "### <font color=\"green\">Matplotlib / Numpy Documentation</font>\n",
    "\n",
    "[**`zeros()`**](https://numpy.org/doc/stable/reference/generated/numpy.zeros.html)\n",
    "[**`ravel()`**](https://numpy.org/doc/stable/reference/generated/numpy.ravel.html)\n",
    "[**`hist()`**](https://matplotlib.org/stable/api/_as_gen/matplotlib.pyplot.hist.html)\n",
    "\n",
    "<hr style=\"border:none; height: 4px; background-color:#D3D3D3\" />"
   ]
  },
  {
   "cell_type": "markdown",
   "metadata": {},
   "source": [
    "### <font style=\"color:rgb(50,120,230)\">Compare calcHist() with plt.hist()</font>"
   ]
  },
  {
   "cell_type": "markdown",
   "metadata": {},
   "source": [
    "\n",
    "<hr style=\"border:none; height: 4px; background-color:#D3D3D3\" />\n",
    "\n",
    "### <font color=\"green\">Function Syntax </font>\n",
    "\n",
    "```python\n",
    "    hist = cv2.calcHist(images, channels, mask, histSize, ranges[, hist[, accumulate]])\n",
    "```\n",
    "\n",
    "This function has **5 required arguments**:\n",
    "\n",
    "1. `images`:\tSource arrays. They all should have the same depth, CV_8U, CV_16U or CV_32F , and the same size. Each of them can have an arbitrary number of channels.\n",
    "\n",
    "2. `channels`:\tList of the dims channels used to compute the histogram. The first array channels are numerated from 0 to images[0].channels()-1 , the second array channels are counted from images[0].channels() to images[0].channels() + images[1].channels()-1, and so on.\n",
    "\n",
    "3. `mask`:\tOptional mask. If the matrix is not empty, it must be an 8-bit array of the same size as images[i] . The non-zero mask elements mark the array elements counted in the histogram.\n",
    "\n",
    "4. `histSize`:\tArray of histogram sizes in each dimension.\n",
    "\n",
    "5. `ranges`:\tArray of the dims arrays of the histogram bin boundaries in each dimension. \n",
    "### <font color=\"green\">OpenCV Documentation</font>\n",
    "\n",
    "\n",
    "[**`calcHist()`**](https://docs.opencv.org/4.5.2/d6/dc7/group__imgproc__hist.html#ga4b2b5fd75503ff9e6844cc4dcdaed35d)\n",
    "\n",
    "<hr style=\"border:none; height: 4px; background-color:#D3D3D3\" />"
   ]
  },
  {
   "cell_type": "markdown",
   "metadata": {},
   "source": [
    "# 3. Histogram Equalization\n",
    "An image histogram is a graphical representation of the tonal distribution of data. Each histogram is simply an array with 256 bins, and each bins contains the number of pixels with that intensity.\n",
    "Histogram Equalization is a non-linear method for enhancing contrast in an image. Let's see how to perform histogram equalization in OpenCV using [**`equalizeHist()`**](https://docs.opencv.org/4.1.0/d6/dc7/group__imgproc__hist.html#ga7e54091f0c937d49bf84152a16f76d6e). "
   ]
  },
  {
   "cell_type": "markdown",
   "metadata": {},
   "source": [
    "## 3.1 Histogram Equalization for Grayscale Images</font>\n",
    "\n",
    "The function `equalizeHist()` performs histogram equalization on a grayscale image. The syntax is given below.\n",
    "\n",
    "<hr style=\"border:none; height: 4px; background-color:#D3D3D3\" />\n",
    "\n",
    "### <font color=\"green\">Function Syntax </font>\n",
    "\n",
    "```python\n",
    "\tdst = cv2.equalizeHist(src[, dst])\n",
    "```\n",
    "\n",
    "**Parameters**\n",
    "\n",
    "- **`src`**:\tSource 8-bit single channel image.\n",
    "- **`dst`**:\tDestination image of the same size and type as src.\n",
    "\n",
    "### <font color=\"green\">OpenCV Documentation</font>\n",
    "\n",
    "\n",
    "[**`equalizeHist()`**](https://docs.opencv.org/4.1.0/d6/dc7/group__imgproc__hist.html#ga7e54091f0c937d49bf84152a16f76d6e)\n",
    "\n",
    "<hr style=\"border:none; height: 4px; background-color:#D3D3D3\" />"
   ]
  },
  {
   "cell_type": "markdown",
   "metadata": {},
   "source": [
    "As expected, the histogram is spread more uniformly over the range "
   ]
  },
  {
   "cell_type": "markdown",
   "metadata": {},
   "source": [
    "## 3.2 Histogram Equalization for Color Images</font>\n",
    "\n",
    "For color images, we can not simply apply histogram equalization on the R, G, B channels separately. To understand why it is not a very good idea, let's take a look at an example.\n",
    "\n",
    "### <font style=\"color:rgb(50,120,230)\">Wrong Way</font>"
   ]
  },
  {
   "cell_type": "code",
   "execution_count": null,
   "metadata": {},
   "outputs": [],
   "source": [
    "# Read color image\n",
    "img = cv2.imread('.jpg')\n",
    "img_eq = np.zeros_like(img)\n",
    "\n",
    "# Peform histogram equalization on each channel separately.\n",
    "for i in range(0, 3):\n",
    "    img_eq[:, :, i] = cv2.equalizeHist(img[:, :, i])\n",
    "\n",
    "# Display the images.\n",
    "plt.figure(figsize = (18, 6))\n",
    "plt.subplot(121); plt.imshow(img[:, :, ::-1]); plt.title('Original Color Image')\n",
    "plt.subplot(122); plt.imshow(img_eq[:, :, ::-1]); plt.title('Equalized Image')"
   ]
  },
  {
   "cell_type": "markdown",
   "metadata": {},
   "source": [
    "### <font style=\"color:rgb(50,120,230)\">Right Way</font>\n",
    "\n",
    "We just saw that histogram equalization performed on the three channels separately leads to poor results. The reason is that when each color channel is non-linearly transformed independently, you can get completely new and unrelated colors. \n",
    "\n",
    "The right way to perform histogram equalization on color images is to transform the images to a space like the **HSV** colorspace where colors/hue/tint is separated from the intensity. \n",
    "\n",
    "**WORKFLOW**\n",
    "\n",
    "1. Tranform the image to HSV colorspace.\n",
    "2. Perform histogram equalization only on the V channel. \n",
    "3. Transform the image back to RGB colorspace."
   ]
  },
  {
   "cell_type": "code",
   "execution_count": null,
   "metadata": {
    "scrolled": true
   },
   "outputs": [],
   "source": [
    "# Read the color image.\n",
    "img = cv2.imread('.jpg', cv2.IMREAD_COLOR)\n",
    "\n",
    "# Convert to HSV.\n",
    "img_hsv = cv2.cvtColor(img, cv2.COLOR_BGR2HSV)\n",
    "\n",
    "# Perform histogram equalization only on the V channel, for value intensity.\n",
    "img_hsv[:,:,2] = cv2.equalizeHist(img_hsv[:, :, 2])\n",
    "\n",
    "# Convert back to BGR format.\n",
    "img_eq = cv2.cvtColor(img_hsv, cv2.COLOR_HSV2BGR)\n",
    "\n",
    "# Display the images.\n",
    "plt.figure(figsize = (18, 6))\n",
    "plt.subplot(121); plt.imshow(img[:, :, ::-1]); plt.title('Original Color Image')\n",
    "plt.subplot(122); plt.imshow(img_eq[:, :, ::-1]); plt.title('Equalized Image')"
   ]
  }
 ],
 "metadata": {
  "kernelspec": {
   "display_name": "Python 3",
   "language": "python",
   "name": "python3"
  },
  "language_info": {
   "codemirror_mode": {
    "name": "ipython",
    "version": 3
   },
   "file_extension": ".py",
   "mimetype": "text/x-python",
   "name": "python",
   "nbconvert_exporter": "python",
   "pygments_lexer": "ipython3",
   "version": "3.8.10"
  }
 },
 "nbformat": 4,
 "nbformat_minor": 4
}
