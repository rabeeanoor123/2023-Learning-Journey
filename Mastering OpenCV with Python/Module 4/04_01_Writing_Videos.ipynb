{
  "cells": [
    {
      "cell_type": "markdown",
      "metadata": {
        "id": "HanH-91-SWN_"
      },
      "source": [
        "<h1 style=\"font-size:30px;\">Writing Videos</h1>\n",
        "\n",
        "While building applications that involve video streams, it is often required to write videos. For example, in a surveillance application, you might want to save a video clip as soon as you see something unusual happening. Writing videos can also be useful during the development phase to help debug your code or to create demos of your work. \n",
        "\n",
        "In this notebook, we will describe how to save a video in **`avi`** and **`mp4`** formats using openCV. We will also demonstrate how to annotate video frames."
      ]
    },
    {
      "cell_type": "code",
      "execution_count": 1,
      "metadata": {
        "colab": {
          "base_uri": "https://localhost:8080/"
        },
        "id": "k9HaX8MoSWOC",
        "outputId": "9c5d6e88-011b-4911-8f1c-0b757f2137a7"
      },
      "outputs": [],
      "source": [
        "import cv2\n",
        "import numpy as np\n",
        "import matplotlib.pyplot as plt "
      ]
    },
    {
      "cell_type": "markdown",
      "metadata": {
        "id": "DWtxQ5DiSWOE"
      },
      "source": [
        "### <font style=\"color:rgb(50,120,230)\">Preview video</font>"
      ]
    },
    {
      "cell_type": "code",
      "execution_count": null,
      "metadata": {
        "colab": {
          "base_uri": "https://localhost:8080/",
          "height": 393
        },
        "id": "TFGSw1T-SWOE",
        "outputId": "ed8ab5df-4bf0-40da-c844-57be82b9f7f1"
      },
      "outputs": [],
      "source": [
        "from moviepy.editor import *\n",
        "\n",
        "input_video = '.mp4'\n",
        "\n",
        "# loading output video \n",
        "clip = VideoFileClip(input_video)\n",
        "clip.ipython_display(width = 50)"
      ]
    },
    {
      "cell_type": "markdown",
      "metadata": {
        "id": "pYOUc8BESWOF"
      },
      "source": [
        "# 1. Read Video from Source"
      ]
    },
    {
      "cell_type": "markdown",
      "metadata": {
        "id": "_oyjTcwfSWOF"
      },
      "source": [
        "Before we demonstrate how to write a video, we will first need to read a video file into memory so we have a video stream to write. Reading videos requires the creation of a video capture object using the `VideoCapture()` class.\n",
        "\n",
        "<hr style=\"border:none; height: 4px; background-color:#D3D3D3\" />\n",
        "\n",
        "### <font color=\"green\">Function Syntax</font>\n",
        "```python\n",
        "VideoCapture object = cv2.VideoCapture(filename[, apiPreference])\n",
        "\n",
        "```\n",
        "The function has **1 required argument**:\n",
        "\n",
        "1. `filename`: Name of the input video file.\n",
        "\n",
        "There is also another common usage that allows you to specifify an index to access the video stream from a camera mounted to your computer. If you computer has a web camera, then it can be acessed using an index of `0`.\n",
        "```python\n",
        "VideoCapture object = cv2.VideoCapture(index[, apiPreference])\n",
        "```\n",
        "\n",
        "### <font color=\"green\">OpenCV Documentation</font>\n",
        "\n",
        "\n",
        "[**`VideoCapture()`**](https://docs.opencv.org/4.5.2/d8/dfe/classcv_1_1VideoCapture.html)\n",
        "\n",
        "<hr style=\"border:none; height: 4px; background-color:#D3D3D3\" />"
      ]
    },
    {
      "cell_type": "markdown",
      "metadata": {
        "id": "3_NUiDhtSWOJ"
      },
      "source": [
        "# 2. Writing Videos"
      ]
    },
    {
      "cell_type": "markdown",
      "metadata": {
        "id": "kF6QWUaFSWOJ"
      },
      "source": [
        "Writing videos requires the creation of a video writer object using the `VideoWriter()` class.\n",
        "\n",
        "<hr style=\"border:none; height: 4px; background-color:#D3D3D3\" />\n",
        "\n",
        "### <font color=\"green\">Function Syntax</font>\n",
        "```python\n",
        "VideoWriter object = cv2.VideoWriter(filename, fourcc, fps, frameSize[, isColor])\n",
        "```\n",
        "The function has **4 required arguments**:\n",
        "\n",
        "1. `filename`: Name of the output video file.\n",
        "2. `fourcc`: 4-character code of codec used to compress the frames. For example, VideoWriter::fourcc('P','I','M','1') is a MPEG-1 codec, VideoWriter::fourcc('M','J','P','G') is a motion-jpeg codec etc. List of codes can be obtained at Video Codecs by FOURCC page. FFMPEG backend with MP4 container natively uses other values as fourcc code: see ObjectType, so you may receive a warning message from OpenCV about fourcc code conversion.\n",
        "3. `fps`: Framerate of the created video stream.\n",
        "4. `frameSize`: Size of the video frames.\n",
        "\n",
        "### <font color=\"green\">OpenCV Documentation</font>\n",
        "\n",
        "\n",
        "[**`VideoWriter()`**](https://docs.opencv.org/4.5.2/dd/d9e/classcv_1_1VideoWriter.html)\n",
        "\n",
        "<hr style=\"border:none; height: 4px; background-color:#D3D3D3\" />"
      ]
    }
  ],
  "metadata": {
    "colab": {
      "name": "04_02_Writing_Videos.ipynb",
      "provenance": []
    },
    "kernelspec": {
      "display_name": "Python 3",
      "language": "python",
      "name": "python3"
    },
    "language_info": {
      "codemirror_mode": {
        "name": "ipython",
        "version": 3
      },
      "file_extension": ".py",
      "mimetype": "text/x-python",
      "name": "python",
      "nbconvert_exporter": "python",
      "pygments_lexer": "ipython3",
      "version": "3.9.16"
    }
  },
  "nbformat": 4,
  "nbformat_minor": 0
}
