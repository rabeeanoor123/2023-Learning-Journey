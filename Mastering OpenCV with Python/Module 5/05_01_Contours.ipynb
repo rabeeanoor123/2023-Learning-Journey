{
 "cells": [
  {
   "cell_type": "markdown",
   "metadata": {
    "id": "nsgmiLpz41i1"
   },
   "source": [
    "# OpenCV Contours\n",
    "In general contours are the boundary pixels of an object/image that has same color and intensity. They are useful in shape analysis and object detection/recognition using traditional computer vision algorithms. You can do a lot of analysis based on contours to arrive at a solution to many computer vision problems. \n",
    "\n",
    "In this Notebook, you will learn the approach and many different aspects of contour analysis.\n",
    "\n",
    "## <font style=\"color:rgb(50,120,229)\">Objective </font>\n",
    " - Learn how to find contour.\n",
    " - Learn drawing contour.\n",
    " - Learn various properties, such as **centre of mass, area of parameter, fitting bounding box and ellipse**"
   ]
  },
  {
   "cell_type": "markdown",
   "metadata": {
    "id": "Qx5GonP841i3"
   },
   "source": [
    "## 1. Import Libraries"
   ]
  },
  {
   "cell_type": "code",
   "execution_count": 1,
   "metadata": {
    "id": "3s_GyXBm41i4"
   },
   "outputs": [],
   "source": [
    "import cv2\n",
    "import matplotlib.pyplot as plt\n",
    "import numpy as np"
   ]
  },
  {
   "cell_type": "code",
   "execution_count": 2,
   "metadata": {
    "id": "0-yXwA7y41i5"
   },
   "outputs": [],
   "source": [
    "import matplotlib\n",
    "matplotlib.rcParams['figure.figsize'] = (20.0, 10.0)\n",
    "matplotlib.rcParams['image.cmap'] = 'gray'"
   ]
  },
  {
   "cell_type": "markdown",
   "metadata": {
    "id": "qM8r16PK41i5"
   },
   "source": [
    "## 2. Load an image and display"
   ]
  },
  {
   "cell_type": "code",
   "execution_count": null,
   "metadata": {
    "id": "cgiqeS-541i5"
   },
   "outputs": [],
   "source": [
    "imagePath = '.jpg'\n",
    "image = cv2.imread(imagePath)\n",
    "# Convert to grayscale\n",
    "imageGray = cv2.cvtColor(image,cv2.COLOR_BGR2GRAY)\n",
    "\n",
    "# Display image\n",
    "plt.imshow(imageGray)"
   ]
  },
  {
   "cell_type": "markdown",
   "metadata": {
    "id": "DU_r3P5f41i6"
   },
   "source": [
    "## 3. Threshold\n",
    "\n",
    "Thresholding is required to convert the image to black and white, highlighting the objects-of-interest to make things easy for the contour detection algorithm. Thresholding turns the border of the object in the image completely white, with all pixels having the same intensity. The algorithm can now detect the borders of the objects from these white pixels."
   ]
  },
  {
   "cell_type": "code",
   "execution_count": null,
   "metadata": {
    "id": "pUKLHBP241i6"
   },
   "outputs": [],
   "source": [
    "ret, thresh = cv2.threshold(imageGray, 200, 255, cv2.THRESH_BINARY)\n",
    "plt.imshow(thresh)"
   ]
  },
  {
   "cell_type": "markdown",
   "metadata": {
    "id": "4q4haMY041i7"
   },
   "source": [
    "## 4. Contour Finding\n",
    "There are many algorithms for finding Contours. Here, We will use the OpenCV function [**`findContours`**](https://docs.opencv.org/4.5.2/d3/dc0/group__imgproc__shape.html#gadf1ad6a0b82947fa1fe3c3d497f260e0) to get the boundaries of the objects.\n",
    "\n",
    "### <font style=\"color:rgb(8,133,37)\">Function Syntax </font>\n",
    "\n",
    "```python\n",
    "contours, hierarchy\t=\tcv.findContours(image, mode, method[, contours[, hierarchy[, offset]]])\n",
    "```\n",
    "\n",
    "Where,\n",
    "\n",
    "\n",
    "- **`image`**\t- input image (8-bit single-channel). Non-zero pixels are treated as 1's. Zero pixels remain 0's, so the image is treated as binary . You can use compare, inRange, threshold , adaptiveThreshold, Canny, and others to create a binary image out of a grayscale or color one. \n",
    "- **`contours`** - Detected contours. Each contour is stored as a vector of points.\n",
    "- **`hierarchy`** - Optional output vector containing information about the image topology.\n",
    "- **`mode`** - Contour retrieval mode, ( RETR_EXTERNAL, RETR_LIST, RETR_CCOMP, RETR_TREE )\n",
    "- **`method`** - Contour approximation method. ( CHAIN_APPROX_NONE, CHAIN_APPROX_SIMPLE, CHAIN_APPROX_TC89_L1 etc )\n",
    "- **`offset`** - Optional offset by which every contour point is shifted. This is useful if the contours are extracted from the image ROI and then they should be analyzed in the whole image context.\n",
    "\n",
    "### <font style=\"color:rgb(8,133,37)\">OpenCV Documentation</font>\n",
    "\n",
    "[**`drawContours()`**](https://docs.opencv.org/4.5.2/d6/d6e/group__imgproc__draw.html#ga746c0625f1781f1ffc9056259103edbc)"
   ]
  },
  {
   "cell_type": "markdown",
   "metadata": {
    "id": "5We0XFpJ41i9"
   },
   "source": [
    "## 6. Contour Properties\n",
    "Once we detect the contours from an image, it becomes very easy to do further analysis on the basis of various properties of contours. Let us discuss a few useful properties of contours.\n",
    "\n",
    "### <font style=\"color:rgb(8,133,37)\">OpenCV Documentation</font>\n",
    "\n",
    "[**`moments()`**](https://docs.opencv.org/4.5.2/d8/d23/classcv_1_1Moments.html)\n",
    "\n",
    "[**`contourArea()`**](https://docs.opencv.org/4.5.2/d3/dc0/group__imgproc__shape.html#ga2c759ed9f497d4a618048a2f56dc97f1)\n",
    "\n",
    "[**`boundingRect()`**](https://docs.opencv.org/4.5.2/db/dd6/classcv_1_1RotatedRect.html#a055a5d35e50bce65e3b1dee318dd3044)\n",
    "\n",
    "[**`minEnclosingCircle()`**](https://docs.opencv.org/4.5.2/d3/dc0/group__imgproc__shape.html#ga8ce13c24081bbc7151e9326f412190f1)\n",
    "\n",
    "[**`fitEllipse()`**](https://docs.opencv.org/4.5.2/d3/dc0/group__imgproc__shape.html#gaf259efaad93098103d6c27b9e4900ffa)\n",
    "\n",
    "[**`minAreaRect`**](https://docs.opencv.org/4.5.2/d3/dc0/group__imgproc__shape.html#ga3d476a3417130ae5154aea421ca7ead9)\n"
   ]
  }
 ],
 "metadata": {
  "colab": {
   "name": "05_01_Contours.ipynb",
   "provenance": []
  },
  "kernelspec": {
   "display_name": "Python 3 (ipykernel)",
   "language": "python",
   "name": "python3"
  },
  "language_info": {
   "codemirror_mode": {
    "name": "ipython",
    "version": 3
   },
   "file_extension": ".py",
   "mimetype": "text/x-python",
   "name": "python",
   "nbconvert_exporter": "python",
   "pygments_lexer": "ipython3",
   "version": "3.9.16"
  }
 },
 "nbformat": 4,
 "nbformat_minor": 1
}
