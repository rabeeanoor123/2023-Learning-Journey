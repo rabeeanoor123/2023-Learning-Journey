{
 "cells": [
  {
   "cell_type": "markdown",
   "metadata": {},
   "source": [
    "### Streamlit cheat sheet"
   ]
  },
  {
   "cell_type": "markdown",
   "metadata": {},
   "source": [
    "#### Installation"
   ]
  },
  {
   "cell_type": "code",
   "execution_count": null,
   "metadata": {},
   "outputs": [],
   "source": [
    "pip install streamlit"
   ]
  },
  {
   "cell_type": "markdown",
   "metadata": {},
   "source": [
    "#### Running a Streamlit app"
   ]
  },
  {
   "cell_type": "code",
   "execution_count": null,
   "metadata": {},
   "outputs": [],
   "source": [
    "streamlit run app.py    # (write file name by replacing (app.py))"
   ]
  },
  {
   "cell_type": "markdown",
   "metadata": {},
   "source": [
    "#### Basic Streamlit Commands:"
   ]
  },
  {
   "cell_type": "code",
   "execution_count": null,
   "metadata": {},
   "outputs": [],
   "source": [
    "#Display Text\n",
    "st.title(\"My Title\")\n",
    "st.header(\"My Header\")\n",
    "st.subheader(\"My Subheader\")\n",
    "st.write(\"General Write Command\")\n",
    "\n",
    "#Display Data\n",
    "import pandas as pd\n",
    "\n",
    "data = pd.DataFrame({\n",
    "    'column1': [1, 2, 3, 4],\n",
    "    'column2': ['A', 'B', 'C', 'D']\n",
    "})\n",
    "\n",
    "st.dataframe(data)\n",
    "st.table(data)\n",
    "\n",
    "#widgets\n",
    "number = st.slider(\"Pick a number\", 1, 100)\n",
    "checkbox = st.checkbox(\"Checkbox Label\")\n",
    "text_input = st.text_input(\"Enter Some Text\", \"Type Here...\")\n",
    "date_input = st.date_input(\"Pick a Date\")\n",
    "time_input = st.time_input(\"Pick a Time\")\n",
    "dropdown = st.selectbox(\"Select a Fruit\", [\"Apple\", \"Orange\", \"Banana\"])\n",
    "\n",
    "# Columns\n",
    "col1, col2, col3 = st.beta_columns(3)\n",
    "with col1:\n",
    "    st.header(\"Column 1\")\n",
    "with col2:\n",
    "    st.header(\"Column 2\")\n",
    "\n",
    "# Expander\n",
    "with st.beta_expander(\"See More\"):\n",
    "    st.write(\"Hidden Info Here!\")\n",
    "\n",
    "#File Uploader\n",
    "uploaded_file = st.file_uploader(\"Upload a file\")\n",
    "if uploaded_file:\n",
    "    st.write(\"Uploaded:\", uploaded_file.name)\n",
    "\n"
   ]
  }
 ],
 "metadata": {
  "kernelspec": {
   "display_name": "working",
   "language": "python",
   "name": "python3"
  },
  "language_info": {
   "codemirror_mode": {
    "name": "ipython",
    "version": 3
   },
   "file_extension": ".py",
   "mimetype": "text/x-python",
   "name": "python",
   "nbconvert_exporter": "python",
   "pygments_lexer": "ipython3",
   "version": "3.9.16"
  },
  "orig_nbformat": 4
 },
 "nbformat": 4,
 "nbformat_minor": 2
}
